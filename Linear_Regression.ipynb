{
  "nbformat": 4,
  "nbformat_minor": 0,
  "metadata": {
    "colab": {
      "provenance": []
    },
    "kernelspec": {
      "name": "python3",
      "display_name": "Python 3"
    },
    "language_info": {
      "name": "python"
    }
  },
  "cells": [
    {
      "cell_type": "code",
      "execution_count": null,
      "metadata": {
        "id": "fiR2Q_5CI36f",
        "colab": {
          "base_uri": "https://localhost:8080/",
          "height": 750
        },
        "outputId": "0a3f72d1-5db8-4fc4-e651-56c0d30cb99d"
      },
      "outputs": [
        {
          "output_type": "stream",
          "name": "stdout",
          "text": [
            "{'tinggi': [65, 67, 68, 69, 71, 67, 68, 69, 70, 67], 'Berat': [112, 144, 142, 153, 136, 144, 123, 141, 136, 112]}\n",
            "   tinggi  Berat\n",
            "0      65    112\n",
            "1      67    144\n",
            "2      68    142\n",
            "3      69    153\n",
            "4      71    136\n",
            "5      67    144\n",
            "6      68    123\n",
            "7      69    141\n",
            "8      70    136\n",
            "9      67    112\n",
            "68.1 134.3\n",
            "3.8550185873605964 -128.2267657992566\n"
          ]
        },
        {
          "output_type": "display_data",
          "data": {
            "text/plain": [
              "<Figure size 640x480 with 1 Axes>"
            ],
            "image/png": "[encoded data removed]"
          },
          "metadata": {}
        },
        {
          "output_type": "stream",
          "name": "stdout",
          "text": [
            "nilai error =  11.706129046318885\n",
            "0.6371032228310995\n"
          ]
        }
      ],
      "source": [
        "import pandas as pd\n",
        "data = { 'tinggi' : [65, 67, 68,69,71,67,68,69,70,67],\n",
        "'Berat' : [112,144,142,153,136,144,123,141,136,112] }\n",
        "print(data)\n",
        "data_df = pd.DataFrame(data)\n",
        "print(data_df)\n",
        "\n",
        "import matplotlib.pyplot as plt\n",
        "import numpy as np\n",
        "x_train = np.array (data_df['tinggi'])\n",
        "y_test  = np.array (data_df['Berat'])\n",
        "\n",
        "x_mean = np.mean(x_train)\n",
        "y_mean = np.mean(y_test)\n",
        "\n",
        "print(x_mean,y_mean)\n",
        "\n",
        "n = len(x_train)\n",
        "\n",
        "Theta0 = 0\n",
        "Theta1 = 0\n",
        "for i in range (n):\n",
        "  Theta0 += (x_train[i]-x_mean)*(y_test[i]-y_mean)\n",
        "  Theta1 += (x_train[i]-x_mean)**2\n",
        "\n",
        "J0 = Theta0 / Theta1\n",
        "J1 = y_mean - (J0*x_mean)\n",
        "\n",
        "print(J0,J1)\n",
        "\n",
        "x_max = np.max(x_train)+4\n",
        "x_min = np.min(x_train)-5\n",
        "\n",
        "x = np.linspace(x_min,x_max, 100)\n",
        "y = J1 + J0 * x\n",
        "\n",
        "plt.plot(x, y,'-r')\n",
        "plt.scatter(x_train, y_test)\n",
        "plt.title('data tinggi dan berat')\n",
        "plt.xlabel('tinggi')\n",
        "plt.ylabel('berat')\n",
        "plt.grid(True)\n",
        "plt.show()\n",
        "\n",
        "r =  0\n",
        "for i in range(n):\n",
        "  y_pred = J1 + J0*x_train[i]\n",
        "  r += (y_test[i]- y_pred)**2\n",
        "r = np.sqrt(r/n)\n",
        "print('nilai error = ',r)\n",
        "\n",
        "square = 0\n",
        "residu = 0\n",
        "for i in range (n):\n",
        "  y_pred = J1 + J0*x_train[i]\n",
        "  square = (y_test[i]- y_mean)**2\n",
        "  residu += (y_test[i]-y_pred)**2\n",
        "\n",
        "Hasil = 1-(square/residu)\n",
        "\n",
        "print(Hasil)"
      ]
    },
    {
      "cell_type": "code",
      "source": [
        "def meanJ (x, y):\n",
        "  J = (x-y) /y\n",
        "  print(J)\n",
        "  return J\n",
        "D = meanJ (6, 5)"
      ],
      "metadata": {
        "colab": {
          "base_uri": "https://localhost:8080/"
        },
        "id": "QsCVIOI6tgWn",
        "outputId": "587ceffd-4cd6-4ae0-a324-9a06e2d62c7a"
      },
      "execution_count": null,
      "outputs": [
        {
          "output_type": "stream",
          "name": "stdout",
          "text": [
            "0.2\n"
          ]
        }
      ]
    },
    {
      "cell_type": "code",
      "source": [
        "class perhitungan () :\n",
        "  def __init__ (self, x, y) :\n",
        "    self.x = x\n",
        "    self.y = y\n",
        "  def penjumlahan (self) :\n",
        "    j = self.x + self.y\n",
        "    return (j)\n",
        "  def pengurangan (self) :\n",
        "    n = self.x - self.y\n",
        "K = perhitungan(5,4)\n",
        "H = K.penjumlahan()\n",
        "print(H)"
      ],
      "metadata": {
        "colab": {
          "base_uri": "https://localhost:8080/"
        },
        "id": "tvFb5T58xEcn",
        "outputId": "8fb2f2bb-2dc4-40f5-c938-2c2b41722115"
      },
      "execution_count": null,
      "outputs": [
        {
          "output_type": "stream",
          "name": "stdout",
          "text": [
            "9\n"
          ]
        }
      ]
    }
  ]
}