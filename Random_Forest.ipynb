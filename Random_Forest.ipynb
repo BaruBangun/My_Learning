{
  "nbformat": 4,
  "nbformat_minor": 0,
  "metadata": {
    "colab": {
      "provenance": []
    },
    "kernelspec": {
      "name": "python3",
      "display_name": "Python 3"
    },
    "language_info": {
      "name": "python"
    }
  },
  "cells": [
    {
      "cell_type": "code",
      "execution_count": null,
      "metadata": {
        "colab": {
          "base_uri": "https://localhost:8080/"
        },
        "id": "89XN1IA62Rj4",
        "outputId": "34de7bc5-f916-447f-c1d1-9f2e0e4ebb51"
      },
      "outputs": [
        {
          "output_type": "stream",
          "name": "stdout",
          "text": [
            "Dimensi Freature : (150, 4)\n",
            "Class : {0, 1, 2}\n",
            "              precision    recall  f1-score   support\n",
            "\n",
            "           0       1.00      1.00      1.00        16\n",
            "           1       1.00      0.94      0.97        18\n",
            "           2       0.92      1.00      0.96        11\n",
            "\n",
            "    accuracy                           0.98        45\n",
            "   macro avg       0.97      0.98      0.98        45\n",
            "weighted avg       0.98      0.98      0.98        45\n",
            "\n"
          ]
        }
      ],
      "source": [
        "from sklearn.datasets import load_iris\n",
        "X,y = load_iris(return_X_y=True)\n",
        "print(f'Dimensi Freature : {X.shape}')\n",
        "print(f'Class : {set(y)}')\n",
        "\n",
        "from sklearn.model_selection import train_test_split\n",
        "X_train,X_test,y_train,y_test = train_test_split(X,\n",
        "                                                 y,\n",
        "                                                 test_size=0.3,\n",
        "                                                 random_state=0)\n",
        "\n",
        "from sklearn.ensemble import RandomForestClassifier\n",
        "model = RandomForestClassifier(n_estimators = 100,\n",
        "                               random_state = 0)\n",
        "model.fit(X_train, y_train)\n",
        "\n",
        "from sklearn.metrics import classification_report\n",
        "y_pred = model.predict(X_test)\n",
        "print(classification_report(y_test, y_pred))"
      ]
    }
  ]
}